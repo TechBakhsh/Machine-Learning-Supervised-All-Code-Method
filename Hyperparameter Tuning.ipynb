{
 "cells": [
  {
   "cell_type": "markdown",
   "metadata": {},
   "source": [
    "# Hyperparameter Tuning\n",
    "Hyperparameter tuning is the process of finding the best combination of hypermaters for a given model.\n",
    "## Types\n",
    "- Grid Search: Exaustive search over all possible combinations of hyperparameters.\n",
    "- Random Search: Randomly sample combinations of hyperparameters from a given distribution.\n",
    "- Bayesian Optimization: Model the objective function and search for the maximum.\n",
    "- Gradient-based Optimization: Use gradient descent to find the minimum of the objective function.\n",
    "# Cross Validation\n",
    "Cross Validation is a technique used to evaluate the performance of a model on unseen data. It is used to check how well the model generalizes to new data."
   ]
  },
  {
   "cell_type": "code",
   "execution_count": 1,
   "metadata": {},
   "outputs": [],
   "source": [
    "import pandas as pd\n",
    "import numpy as np\n",
    "import seaborn as sns\n",
    "import matplotlib.pyplot as plt\n",
    "from sklearn.ensemble import RandomForestClassifier\n",
    "from sklearn.model_selection import train_test_split, GridSearchCV, RandomizedSearchCV\n",
    "from sklearn.metrics import accuracy_score, confusion_matrix, classification_report"
   ]
  },
  {
   "cell_type": "code",
   "execution_count": 2,
   "metadata": {},
   "outputs": [],
   "source": [
    "from sklearn.datasets import load_iris\n",
    "iris = load_iris()\n",
    "X = iris.data\n",
    "y = iris.target"
   ]
  },
  {
   "cell_type": "code",
   "execution_count": 3,
   "metadata": {},
   "outputs": [
    {
     "name": "stdout",
     "output_type": "stream",
     "text": [
      "Fitting 5 folds for each of 36 candidates, totalling 180 fits\n",
      "Best parameters: {'bootstrap': True, 'criterion': 'gini', 'max_depth': 4, 'n_estimators': 100}\n",
      "CPU times: total: 1.3 s\n",
      "Wall time: 47.9 s\n"
     ]
    }
   ],
   "source": [
    "%%time\n",
    "# define the model\n",
    "model = RandomForestClassifier()\n",
    "\n",
    "# create the parameter grid\n",
    "param_grid = {\n",
    "    'n_estimators' :[50, 100, 200],\n",
    "    'max_depth': [4, 5, 6],\n",
    "    'criterion': ['gini', 'entropy'],\n",
    "    'bootstrap': [True, False]\n",
    "}\n",
    "\n",
    "# setup the grid\n",
    "grid = GridSearchCV(\n",
    "    estimator = model,\n",
    "    param_grid = param_grid,\n",
    "    cv = 5,\n",
    "    scoring = 'accuracy',\n",
    "    verbose = 1,\n",
    "    n_jobs = -1\n",
    ")\n",
    "\n",
    "# fit the model\n",
    "grid.fit(X,y)\n",
    "\n",
    "# print the best parameters\n",
    "print(f\"Best parameters: {grid.best_params_}\")"
   ]
  },
  {
   "cell_type": "markdown",
   "metadata": {},
   "source": [
    "# Random Search"
   ]
  },
  {
   "cell_type": "code",
   "execution_count": 4,
   "metadata": {},
   "outputs": [
    {
     "name": "stdout",
     "output_type": "stream",
     "text": [
      "Fitting 5 folds for each of 20 candidates, totalling 100 fits\n",
      "Best parameters: {'n_estimators': 200, 'max_depth': 6, 'criterion': 'entropy', 'bootstrap': True}\n",
      "CPU times: total: 1.14 s\n",
      "Wall time: 22.5 s\n"
     ]
    }
   ],
   "source": [
    "%%time\n",
    "# define the model\n",
    "model = RandomForestClassifier()\n",
    "\n",
    "# create the parameter grid\n",
    "param_grid = {\n",
    "    'n_estimators' :[50, 100, 200],\n",
    "    'max_depth': [4, 5, 6],\n",
    "    'criterion': ['gini', 'entropy'],\n",
    "    'bootstrap': [True, False]\n",
    "}\n",
    "\n",
    "# setup the grid\n",
    "grid = RandomizedSearchCV(\n",
    "    estimator = model,\n",
    "    param_distributions = param_grid,\n",
    "    cv = 5,\n",
    "    scoring = 'accuracy',\n",
    "    verbose = 1,\n",
    "    n_jobs = -1,\n",
    "    n_iter = 20\n",
    ")\n",
    "\n",
    "# fit the model\n",
    "grid.fit(X,y)\n",
    "\n",
    "# print the best parameters\n",
    "print(f\"Best parameters: {grid.best_params_}\")"
   ]
  }
 ],
 "metadata": {
  "kernelspec": {
   "display_name": "Machine",
   "language": "python",
   "name": "python3"
  },
  "language_info": {
   "codemirror_mode": {
    "name": "ipython",
    "version": 3
   },
   "file_extension": ".py",
   "mimetype": "text/x-python",
   "name": "python",
   "nbconvert_exporter": "python",
   "pygments_lexer": "ipython3",
   "version": "3.10.13"
  }
 },
 "nbformat": 4,
 "nbformat_minor": 2
}
